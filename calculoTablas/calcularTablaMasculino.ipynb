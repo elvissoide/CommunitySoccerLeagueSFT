{
 "cells": [
  {
   "cell_type": "code",
   "execution_count": 1,
   "metadata": {},
   "outputs": [],
   "source": [
    "# Eliminacion de la base de datos\n",
    "# partidos_collection.delete_many({})"
   ]
  },
  {
   "cell_type": "code",
   "execution_count": 2,
   "metadata": {},
   "outputs": [],
   "source": [
    "from datetime import datetime\n",
    "from pymongo import MongoClient\n",
    "from tabulate import tabulate"
   ]
  },
  {
   "cell_type": "code",
   "execution_count": 3,
   "metadata": {},
   "outputs": [],
   "source": [
    "# Conexión a la base de datos\n",
    "client = MongoClient('mongodb://localhost:27017')\n",
    "db = client['campeonato']\n",
    "partidos_collection = db['partidosMasculino']"
   ]
  },
  {
   "cell_type": "code",
   "execution_count": 4,
   "metadata": {},
   "outputs": [],
   "source": [
    "# Función para ingresar los resultados de los partidos\n",
    "def ingresar_resultados(fecha, resultados):\n",
    "    for partido, resultado in resultados.items():\n",
    "        partido_data = {\n",
    "            'fecha': fecha,\n",
    "            'partido': partido,\n",
    "            'resultado': resultado\n",
    "        }\n",
    "        partidos_collection.insert_one(partido_data)\n",
    "\n",
    "# Función para obtener la tabla de posiciones general\n",
    "def obtener_tabla_posiciones():\n",
    "    tabla_posiciones = {}\n",
    "    for partido in partidos_collection.find():\n",
    "        resultado = partido['resultado']\n",
    "        equipo_local, goles_local = resultado['local'], resultado['goles_local']\n",
    "        equipo_visitante, goles_visitante = resultado['visitante'], resultado['goles_visitante']\n",
    "\n",
    "        if equipo_local not in tabla_posiciones:\n",
    "            tabla_posiciones[equipo_local] = {'PJ': 0, 'PG': 0, 'PE': 0, 'PP': 0, 'GF': 0, 'GC': 0, 'GD':0, 'PTS': 0}\n",
    "        if equipo_visitante not in tabla_posiciones:\n",
    "            tabla_posiciones[equipo_visitante] = {'PJ': 0, 'PG': 0, 'PE': 0, 'PP': 0, 'GF': 0, 'GC': 0, 'GD':0, 'PTS': 0}\n",
    "\n",
    "        tabla_posiciones[equipo_local]['PJ'] += 1\n",
    "        tabla_posiciones[equipo_visitante]['PJ'] += 1\n",
    "\n",
    "        tabla_posiciones[equipo_local]['GF'] += goles_local\n",
    "        tabla_posiciones[equipo_local]['GC'] += goles_visitante\n",
    "        tabla_posiciones[equipo_visitante]['GF'] += goles_visitante\n",
    "        tabla_posiciones[equipo_visitante]['GC'] += goles_local\n",
    "        tabla_posiciones[equipo_local]['GD'] = tabla_posiciones[equipo_local]['GF'] - tabla_posiciones[equipo_local]['GC']\n",
    "        tabla_posiciones[equipo_visitante]['GD'] = tabla_posiciones[equipo_visitante]['GF'] - tabla_posiciones[equipo_visitante]['GC']\n",
    "\n",
    "        if goles_local > goles_visitante:\n",
    "            tabla_posiciones[equipo_local]['PG'] += 1\n",
    "            tabla_posiciones[equipo_visitante]['PP'] += 1\n",
    "        elif goles_local < goles_visitante:\n",
    "            tabla_posiciones[equipo_local]['PP'] += 1\n",
    "            tabla_posiciones[equipo_visitante]['PG'] += 1\n",
    "        else:\n",
    "            tabla_posiciones[equipo_local]['PE'] += 1\n",
    "            tabla_posiciones[equipo_visitante]['PE'] += 1\n",
    "\n",
    "    for equipo, datos in tabla_posiciones.items():\n",
    "        datos['PTS'] = 3 * datos['PG'] + 1 * datos['PE']\n",
    "\n",
    "    return tabla_posiciones"
   ]
  },
  {
   "cell_type": "code",
   "execution_count": 5,
   "metadata": {},
   "outputs": [],
   "source": [
    "# Ingresar resultados de los partidos\n",
    "resultados_fecha1 = {\n",
    "    'Partido1': {'local': 'Olimpico', 'goles_local': 2, 'visitante': 'Milan', 'goles_visitante': 1},\n",
    "    'Partido2': {'local': 'Atletico Madrid', 'goles_local': 2, 'visitante': 'Inter Jr', 'goles_visitante': 2},\n",
    "    'Partido3': {'local': 'Barcelona A', 'goles_local': 3, 'visitante': 'La Coruña', 'goles_visitante': 1},\n",
    "    'Partido4': {'local': 'FC Corinthians', 'goles_local': 3, 'visitante': 'Huracán', 'goles_visitante': 3},\n",
    "    'Partido5': {'local': 'Celaya', 'goles_local': 2, 'visitante': 'San Francisco', 'goles_visitante': 2},\n",
    "    'Partido6': {'local': 'Bones Boys', 'goles_local': 0, 'visitante': 'San Vicente', 'goles_visitante': 0},\n",
    "    'Partido7': {'local': 'Atlanta', 'goles_local': 1, 'visitante': 'Barcelona B', 'goles_visitante': 3},\n",
    "    'Partido8': {'local': 'Boca Junior', 'goles_local': 0, 'visitante': 'Espoli', 'goles_visitante': 2},\n",
    "    'Partido9': {'local': 'Manchester', 'goles_local': 4, 'visitante': 'Nuevos Horizontes', 'goles_visitante': 3}\n",
    "}\n",
    "\n",
    "# resultados_fecha2 = {\n",
    "#     'Partido1': {'local': 'EquipoA', 'goles_local': 3, 'visitante': 'EquipoC', 'goles_visitante': 1},\n",
    "#     'Partido2': {'local': 'EquipoB', 'goles_local': 2, 'visitante': 'EquipoE', 'goles_visitante': 2},\n",
    "#     'Partido3': {'local': 'EquipoD', 'goles_local': 1, 'visitante': 'EquipoF', 'goles_visitante': 2}\n",
    "# }\n",
    "\n",
    "ingresar_resultados(datetime(2023, 7, 1), resultados_fecha1)\n",
    "# ingresar_resultados(datetime(2023, 7, 8), resultados_fecha2)"
   ]
  },
  {
   "cell_type": "code",
   "execution_count": 6,
   "metadata": {},
   "outputs": [
    {
     "name": "stdout",
     "output_type": "stream",
     "text": [
      "Tabla de Posiciones:\n",
      "╒═══════════════════╤══════╤══════╤══════╤══════╤══════╤══════╤══════╤═══════╕\n",
      "│ Equipo            │   PJ │   PG │   PE │   PP │   GF │   GC │   GD │   PTS │\n",
      "╞═══════════════════╪══════╪══════╪══════╪══════╪══════╪══════╪══════╪═══════╡\n",
      "│ Barcelona A       │    1 │    1 │    0 │    0 │    3 │    1 │    2 │     3 │\n",
      "├───────────────────┼──────┼──────┼──────┼──────┼──────┼──────┼──────┼───────┤\n",
      "│ Barcelona B       │    1 │    1 │    0 │    0 │    3 │    1 │    2 │     3 │\n",
      "├───────────────────┼──────┼──────┼──────┼──────┼──────┼──────┼──────┼───────┤\n",
      "│ Espoli            │    1 │    1 │    0 │    0 │    2 │    0 │    2 │     3 │\n",
      "├───────────────────┼──────┼──────┼──────┼──────┼──────┼──────┼──────┼───────┤\n",
      "│ Manchester        │    1 │    1 │    0 │    0 │    4 │    3 │    1 │     3 │\n",
      "├───────────────────┼──────┼──────┼──────┼──────┼──────┼──────┼──────┼───────┤\n",
      "│ Olimpico          │    1 │    1 │    0 │    0 │    2 │    1 │    1 │     3 │\n",
      "├───────────────────┼──────┼──────┼──────┼──────┼──────┼──────┼──────┼───────┤\n",
      "│ FC Corinthians    │    1 │    0 │    1 │    0 │    3 │    3 │    0 │     1 │\n",
      "├───────────────────┼──────┼──────┼──────┼──────┼──────┼──────┼──────┼───────┤\n",
      "│ Huracán           │    1 │    0 │    1 │    0 │    3 │    3 │    0 │     1 │\n",
      "├───────────────────┼──────┼──────┼──────┼──────┼──────┼──────┼──────┼───────┤\n",
      "│ Atletico Madrid   │    1 │    0 │    1 │    0 │    2 │    2 │    0 │     1 │\n",
      "├───────────────────┼──────┼──────┼──────┼──────┼──────┼──────┼──────┼───────┤\n",
      "│ Inter Jr          │    1 │    0 │    1 │    0 │    2 │    2 │    0 │     1 │\n",
      "├───────────────────┼──────┼──────┼──────┼──────┼──────┼──────┼──────┼───────┤\n",
      "│ Celaya            │    1 │    0 │    1 │    0 │    2 │    2 │    0 │     1 │\n",
      "├───────────────────┼──────┼──────┼──────┼──────┼──────┼──────┼──────┼───────┤\n",
      "│ San Francisco     │    1 │    0 │    1 │    0 │    2 │    2 │    0 │     1 │\n",
      "├───────────────────┼──────┼──────┼──────┼──────┼──────┼──────┼──────┼───────┤\n",
      "│ Bones Boys        │    1 │    0 │    1 │    0 │    0 │    0 │    0 │     1 │\n",
      "├───────────────────┼──────┼──────┼──────┼──────┼──────┼──────┼──────┼───────┤\n",
      "│ San Vicente       │    1 │    0 │    1 │    0 │    0 │    0 │    0 │     1 │\n",
      "├───────────────────┼──────┼──────┼──────┼──────┼──────┼──────┼──────┼───────┤\n",
      "│ Nuevos Horizontes │    1 │    0 │    0 │    1 │    3 │    4 │   -1 │     0 │\n",
      "├───────────────────┼──────┼──────┼──────┼──────┼──────┼──────┼──────┼───────┤\n",
      "│ Milan             │    1 │    0 │    0 │    1 │    1 │    2 │   -1 │     0 │\n",
      "├───────────────────┼──────┼──────┼──────┼──────┼──────┼──────┼──────┼───────┤\n",
      "│ La Coruña         │    1 │    0 │    0 │    1 │    1 │    3 │   -2 │     0 │\n",
      "├───────────────────┼──────┼──────┼──────┼──────┼──────┼──────┼──────┼───────┤\n",
      "│ Atlanta           │    1 │    0 │    0 │    1 │    1 │    3 │   -2 │     0 │\n",
      "├───────────────────┼──────┼──────┼──────┼──────┼──────┼──────┼──────┼───────┤\n",
      "│ Boca Junior       │    1 │    0 │    0 │    1 │    0 │    2 │   -2 │     0 │\n",
      "╘═══════════════════╧══════╧══════╧══════╧══════╧══════╧══════╧══════╧═══════╛\n"
     ]
    }
   ],
   "source": [
    "# Obtener la tabla de posiciones general\n",
    "tabla_posiciones = obtener_tabla_posiciones()\n",
    "\n",
    "# Ordenar la tabla de posiciones por puntos, gol diferencia y goles a favor\n",
    "tabla_ordenada = sorted(tabla_posiciones.items(), key=lambda x: (x[1]['PTS'], x[1]['GD'], x[1]['GF']), reverse=True)\n",
    "\n",
    "# Imprimir la tabla de posiciones\n",
    "tabla = []\n",
    "for equipo, datos in tabla_ordenada:\n",
    "    fila = [equipo, datos['PJ'], datos['PG'], datos['PE'], datos['PP'], datos['GF'], datos['GC'], datos['GD'], datos['PTS']]\n",
    "    tabla.append(fila)\n",
    "\n",
    "encabezados = [\"Equipo\", \"PJ\", \"PG\", \"PE\", \"PP\", \"GF\", \"GC\", \"GD\", \"PTS\"]\n",
    "\n",
    "print(\"Tabla de Posiciones:\")\n",
    "print(tabulate(tabla, headers=encabezados, tablefmt=\"fancy_grid\"))"
   ]
  }
 ],
 "metadata": {
  "kernelspec": {
   "display_name": "Python 3",
   "language": "python",
   "name": "python3"
  },
  "language_info": {
   "codemirror_mode": {
    "name": "ipython",
    "version": 3
   },
   "file_extension": ".py",
   "mimetype": "text/x-python",
   "name": "python",
   "nbconvert_exporter": "python",
   "pygments_lexer": "ipython3",
   "version": "3.11.3"
  },
  "orig_nbformat": 4
 },
 "nbformat": 4,
 "nbformat_minor": 2
}
